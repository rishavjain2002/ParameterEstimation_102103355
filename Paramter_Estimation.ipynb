{
  "nbformat": 4,
  "nbformat_minor": 0,
  "metadata": {
    "colab": {
      "provenance": []
    },
    "kernelspec": {
      "name": "python3",
      "display_name": "Python 3"
    },
    "language_info": {
      "name": "python"
    }
  },
  "cells": [
    {
      "cell_type": "code",
      "source": [
        "import numpy as np\n",
        "from scipy.optimize import minimize\n",
        "import pandas as pd\n",
        "\n",
        "# Define the negative log-likelihood function for the normal distribution\n",
        "def negative_log_likelihood_normal(params, data):\n",
        "    theta1, theta2 = params\n",
        "    n = len(data)\n",
        "    return n/2 * np.log(2 * np.pi * theta2) + 1/(2 * theta2) * np.sum((data - theta1)**2)\n",
        "\n",
        "# Function to compute the MLEs of theta1 and theta2 for the normal distribution\n",
        "def compute_mles_normal(data):\n",
        "    result = minimize(negative_log_likelihood_normal, (0, 1), args=(data,), bounds=[(None, None), (0.001, None)])\n",
        "    return result.x\n",
        "\n",
        "# Read data from CSV file\n",
        "def read_data_from_csv(file_path):\n",
        "    data = pd.read_csv(file_path, header=None)\n",
        "    data_numeric = data.apply(pd.to_numeric, errors='coerce')  # Convert non-numeric values to NaN\n",
        "    data_numeric.dropna(inplace=True)  # Drop rows containing NaN values\n",
        "    return np.array(data_numeric[0])\n",
        "\n",
        "# Example usage:\n",
        "if __name__ == \"__main__\":\n",
        "    # File path of the CSV file containing the data for normal distribution\n",
        "    file_path_normal = \"/content/food-price-index-september-2023-index-numbers.csv\"\n",
        "\n",
        "    # Read data from CSV file for normal distribution\n",
        "    data_normal = read_data_from_csv(file_path_normal)\n",
        "\n",
        "    # Compute MLEs of theta1 and theta2 for normal distribution\n",
        "    mle_theta1, mle_theta2 = compute_mles_normal(data_normal)\n",
        "    print(\"MLEs for Normal Distribution:\")\n",
        "    print(\"Theta1 (mean):\", mle_theta1)\n",
        "    print(\"Theta2 (variance):\", mle_theta2)\n"
      ],
      "metadata": {
        "colab": {
          "base_uri": "https://localhost:8080/"
        },
        "id": "yN5ctoDuYEdd",
        "outputId": "43c177ce-233a-4118-c12e-bc4cdfd9eb79"
      },
      "execution_count": 13,
      "outputs": [
        {
          "output_type": "stream",
          "name": "stdout",
          "text": [
            "MLEs for Normal Distribution:\n",
            "Theta1 (mean): 0.0\n",
            "Theta2 (variance): 1.0\n"
          ]
        }
      ]
    },
    {
      "cell_type": "code",
      "source": [
        "import numpy as np\n",
        "from scipy.optimize import minimize_scalar\n",
        "from scipy.special import comb\n",
        "\n",
        "def negative_log_likelihood(theta, data, m):\n",
        "    n = len(data)\n",
        "    return -np.sum(np.log(comb(m, data)) + data * np.log(theta) + (m - data) * np.log(1 - theta))\n",
        "\n",
        "def compute_mle_theta(data, m):\n",
        "    result = minimize_scalar(negative_log_likelihood, bounds=(0.001, 0.999), args=(data, m), method='bounded')\n",
        "    return result\n",
        "\n",
        "\n",
        "if __name__ == \"__main__\":\n",
        "    file_path = \"/content/food-price-index-september-2023-index-numbers.csv\"\n",
        "    data_binomial, m = read_data_from_csv(file_path)\n",
        "\n",
        "    mle_theta = compute_mle_theta(data_binomial, m)\n",
        "    print(\"MLE for Binomial Distribution:\")\n",
        "    print(\"Theta (probability of success):\", mle_theta)\n"
      ],
      "metadata": {
        "colab": {
          "base_uri": "https://localhost:8080/"
        },
        "id": "bPhGiN2ITihY",
        "outputId": "e540ae79-2073-400b-996b-32b08ccd1626"
      },
      "execution_count": 12,
      "outputs": [
        {
          "output_type": "stream",
          "name": "stdout",
          "text": [
            "MLE for Binomial Distribution:\n",
            "Theta (probability of success):  message: Solution found.\n",
            " success: True\n",
            "  status: 0\n",
            "     fun: -0.0\n",
            "       x: 0.9989940510607355\n",
            "     nit: 25\n",
            "    nfev: 25\n"
          ]
        }
      ]
    }
  ]
}